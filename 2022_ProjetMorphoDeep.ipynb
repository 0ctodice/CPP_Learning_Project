{
  "nbformat": 4,
  "nbformat_minor": 0,
  "metadata": {
    "colab": {
      "provenance": [],
      "collapsed_sections": [],
      "toc_visible": true,
      "include_colab_link": true
    },
    "kernelspec": {
      "name": "python3",
      "display_name": "Python 3"
    }
  },
  "cells": [
    {
      "cell_type": "markdown",
      "metadata": {
        "id": "view-in-github",
        "colab_type": "text"
      },
      "source": [
        "<a href=\"https://colab.research.google.com/github/0ctodice/CPP_Learning_Project/blob/master/2022_ProjetMorphoDeep.ipynb\" target=\"_parent\"><img src=\"https://colab.research.google.com/assets/colab-badge.svg\" alt=\"Open In Colab\"/></a>"
      ]
    },
    {
      "cell_type": "markdown",
      "metadata": {
        "id": "efAUbX4PfqOQ"
      },
      "source": [
        "# Projet de Morphologie Mathématique : Evaluation de hiérarchies\n",
        "### Laurent Najman, Benjamin Perret et Jean Cousty\n",
        "\n",
        "Le projet consiste à évaluer plusieurs hiérarchies de segmentation sur une base d'image très classique, le [Berkeley Segmentation Dataset](https://www2.eecs.berkeley.edu/Research/Projects/CS/vision/bsds/). L'évaluation que vous allez faire est basée sur le papier disponible par ce [lien](https://hal.archives-ouvertes.fr/hal-01430865v2/document), que vous pourrez lire si vous voulez comprendre ce que vous faites. Plus d'info est disponible [ici](https://perso.esiee.fr/~perretb/supeval.html), mais vous n'aurez normalement pas besoin de cela.\n",
        "\n",
        "Pour cela, nous allons vous fournir plusieurs fonctions qui vous seront utiles, et vous devrez créer vos hiérarchies à partir de ce que nous avons vu en cours.\n",
        "\n",
        "## Objectifs\n",
        "Vous devez :\n",
        "\n",
        "*   Choisir au moins 3 hiérarchies différentes. Par exemple, le BPT ou une hiérarchie de watershed comme dans les exemples plus bas, ou bien (plus compliqué) une carte de saillance avec un critère de Fenzelswab comme dans ce [papier](https://hal.archives-ouvertes.fr/hal-01301966/file/xu.saliencymap.final.pdf). Facile à faire avec du shaping, une hiérarchie basée sur la moyenne du gradient le long des contours, comme proposée [ici](https://colab.research.google.com/github/higra/Higra-Notebooks/blob/master/Computing%20a%20saliency%20map%20with%20the%20shaping%20framework.ipynb). Ou encore les hiérarchies disponibles plus bas.\n",
        "*   Choisir plusieurs gradients. Deux gradients appris sont disponibles plus bas, mais vous devez aussi essayer des gradients basiques, tels que Sobel, gradient morphologique, etc.\n",
        "*   Choisir quelques post-processing, tel que filtrages (par exemple celui proposé plus bas),  ou bien  des transformations de hiérarchies. \n",
        "*   Calculer vos hiérarchies avec vos gradients et vos filtrages\n",
        "*   Faire une évaluation qualitative (en regardant des images et des cartes de saillance)\n",
        "*   Faire une évaluation quantitative de vos hiérarchies\n",
        "*   Faire un rapport expliquant ce que vous avez fait, et discutant (de manière argumentée) de la qualité des diverses hiérarchies que vous avez calculées. Dans ce rapport, il serait de bon ton de discuter de l'effet des filtres choisis, des gradients choisis, etc., en expliquant pourquoi un choix donné est meilleur qu'un autre, etc. Vous noterez en testant que certaines hiérarchies ne fonctionnent pas bien sans filtrage.\n",
        "\n",
        "Vous serez noté sur la qualité de votre rédaction et la clarté de vos explications, mais pas sur le fait d'obtenir le meilleur score possible (encore que si on voit que vous avez fait des efforts, ça peut nous influencer). Bien évidement, si on soupçonne de la fraude, celle-ci sera durement sanctionnée. Il y a tellement de choix possibles qu'il est impossible que vous fassiez tous les mêmes choix, mais il serait peut être utile de vérifier que le hasard ne vous a pas maudit. Une liste de ce que vous comptez faire doit nous être écrite dans ce document [lien](https://docs.google.com/spreadsheets/d/1osLy6BSGm0I4_HArp-WE5oRIZwd2m-hl/edit?usp=sharing&ouid=101898541981757890127&rtpof=true&sd=true)\n",
        " (à la fin de la journée de mercredi si cela vous convient), et nous pourrons alors vérifier que vous voulez bien faire des choses différentes.\n",
        "\n",
        "\n",
        "## A faire avant\n",
        "Avant de commencer, faites une copie dans votre drive du dossier PoolNet : [lien](https://drive.google.com/drive/folders/1KlpyK5W-EixJix5QSZbodgGKWFFwg-zn?usp=sharing). Ce dossier contient un modèle de gradient par deep learning, qui est créé à partir du github disponible [ici](https://github.com/backseason/PoolNet).\n",
        "\n",
        "## Fonctions disponibles\n",
        "\n",
        "\n",
        "* Comment visualiser une hiérarchie de segmentation : [lien](https://colab.research.google.com/github/higra/Higra-Notebooks/blob/master/Visualizing%20hierarchical%20image%20segmentations.ipynb)\n",
        "* Comment évaluer une hiérarchie de segmentation : [lien](https://colab.research.google.com/drive/1GEvT19CNP3u1HIwq_HIzpZl-ZU2gGfNC) \n",
        "* Quelques fonctions de calcul de plusieurs gradients : [lien](https://colab.research.google.com/drive/1bUFH6F6nP6ole7sQoD6lNk0dAFgZdMAm) \n",
        "* Un filtrage intéressant à appliquer sur vos hiérarchies : [lien](https://colab.research.google.com/github/higra/Higra-Notebooks/blob/master/Illustrations%20of%20Pattern%20Recognition%20Letters%202019%20article.ipynb)\n",
        "\n",
        "## Hiérarchies de partions intéressantes dans Higra\n",
        "\n",
        "En plus du Binary Partition Tree et des diverses watershed hiérarchiques qui sont disponibles dans les exemples ci-dessus, vous pouvez essayer facilement\n",
        "* [Constrained connectivity](https://higra.readthedocs.io/en/stable/python/constrained_connectivity_hierarchy.html)\n",
        "* [hierarchy_to_optimal_MumfordShah_energy_cut_hierarchy](https://higra.readthedocs.io/en/stable/python/tree_energy_optimization.html) qui transforme une première hiérarchie en une deuxième avec un critère basé sur Mumford-Shah\n",
        "* mean_pb_hierarchy et sa version multi-échelle multiscale_mean_pb_hierarchy [lien](https://higra.readthedocs.io/en/stable/python/mean_pb_hierarchy.html)\n",
        "* Parmi les BPT, binary_partition_tree_MumfordShah_energy est adapté pour les images [lien](https://higra.readthedocs.io/en/stable/python/binary_partition_tree.html#higra.binary_partition_tree_MumfordShah_energy).\n",
        "\n"
      ]
    },
    {
      "cell_type": "code",
      "metadata": {
        "id": "yC81iUHyqpk-"
      },
      "source": [],
      "execution_count": null,
      "outputs": []
    }
  ]
}